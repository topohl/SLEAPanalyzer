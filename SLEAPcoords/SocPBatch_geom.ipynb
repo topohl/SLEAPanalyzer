{
  "metadata": {
    "language_info": {
      "codemirror_mode": {
        "name": "python",
        "version": 3
      },
      "file_extension": ".py",
      "mimetype": "text/x-python",
      "name": "python",
      "nbconvert_exporter": "python",
      "pygments_lexer": "ipython3",
      "version": "3.8"
    },
    "kernelspec": {
      "name": "python",
      "display_name": "Python (Pyodide)",
      "language": "python"
    }
  },
  "nbformat_minor": 4,
  "nbformat": 4,
  "cells": [
    {
      "cell_type": "code",
      "source": "import os\nimport h5py\nimport pandas as pd\nimport numpy as np\nfrom scipy.interpolate import interp1d\n\n# Define the input and output directories\ninput_dir = r\"C:\\Users\\topohl\\Documents\\SLEAP\\Projects\\AnalysisSocP\\predictions\\geom\"\noutput_dir = r\"C:\\Users\\topohl\\Documents\\SLEAP\\Projects\\AnalysisSocP\\predictions\\geom\"\n\n# Define geom indices\ngeom_indices = {\n    0: 'tl',\n    1: 'tr',\n    2: 'br',\n    3: 'bl',\n    4: 'socl',\n    5: 'socr'\n}\n\ndef fill_missing(Y, kind=\"linear\"):\n    \"\"\"Fills missing values independently along each dimension after the first.\"\"\"\n    if len(Y) == 0:\n        return Y\n    else:\n        # Store initial shape.\n        initial_shape = Y.shape\n        # Flatten after first dim.\n        Y = Y.reshape((initial_shape[0], -1))\n        # Interpolate along each slice.\n        for i in range(Y.shape[-1]):\n            y = Y[:, i]\n            if np.isnan(y).all():\n                y[:] = np.nan\n            else:\n                # Build interpolant.\n                x = np.flatnonzero(~np.isnan(y))\n                f = interp1d(x, y[x], kind=kind, fill_value=np.nan, bounds_error=False)\n                # Fill missing\n                xq = np.flatnonzero(np.isnan(y))\n                y[xq] = f(xq)\n                # Fill leading or trailing NaNs with the nearest non-NaN values\n                mask = np.isnan(y)\n                if mask.any():\n                    first, last = mask.argmax(), len(mask) - mask[::-1].argmax()\n                    y[:first] = y[first]\n                    y[last:] = y[last - 1]\n            # Save slice\n            Y[:, i] = y\n        # Restore to initial shape.\n        Y = Y.reshape(initial_shape)\n        return Y\n\n# Loop over all files in the input directory\nfor filename in os.listdir(input_dir):\n    if filename.endswith(\".h5\"):\n        # Construct the full input and output file paths\n        input_path = os.path.join(input_dir, filename)\n        output_filename = os.path.splitext(filename)[0] + '_geom_locs.csv'\n        output_path = os.path.join(output_dir, output_filename)\n\n        # Load the data from the input file\n        with h5py.File(input_path, \"r\") as f:\n            locations = f[\"tracks\"][:].T\n\n        # Fill missing data in the locations array\n        locations = fill_missing(locations)\n\n        # Extract geom locations\n        geom_locs = {}\n        for index, geom_name in geom_indices.items():\n            geom_locs[geom_name] = locations[:, index, :, :]\n\n        # Initialize the DataFrame\n        df = pd.DataFrame()\n\n        # Loop through the geoms\n        for geom in part_indices.values():\n            x = geom_locs[geom][:, 0] # retrieve the x coordinate\n            y = geom_locs[geom][:, 1] # retrieve the y coordinate\n            x, y = x.ravel(), y.ravel() # unravel the arrays\n            df[f\"{geom}_x\"] = x # add the x coordinate to the DataFrame\n            df[f\"{geom}_y\"] = y # add the y coordinate to the DataFrame\n\n        # Save the DataFrame as a csv file\n        df.to_csv(output_path, index=False)\n\n        print(f\"Processed file {input_path}\")",
      "metadata": {
        "trusted": true
      },
      "execution_count": 1,
      "outputs": [
        {
          "ename": "<class 'NameError'>",
          "evalue": "name 'locations' is not defined",
          "traceback": [
            "\u001b[0;31m---------------------------------------------------------------------------\u001b[0m",
            "\u001b[0;31mNameError\u001b[0m                                 Traceback (most recent call last)",
            "Cell \u001b[0;32mIn[1], line 64\u001b[0m\n\u001b[1;32m     61\u001b[0m         Y \u001b[38;5;241m=\u001b[39m Y\u001b[38;5;241m.\u001b[39mreshape(initial_shape)\n\u001b[1;32m     62\u001b[0m         \u001b[38;5;28;01mreturn\u001b[39;00m Y\n\u001b[0;32m---> 64\u001b[0m locations\u001b[38;5;241m=\u001b[39mfill_missing(\u001b[43mlocations\u001b[49m)\n\u001b[1;32m     66\u001b[0m \u001b[38;5;66;03m# Loop over all files in the input directory\u001b[39;00m\n\u001b[1;32m     67\u001b[0m \u001b[38;5;28;01mfor\u001b[39;00m filename \u001b[38;5;129;01min\u001b[39;00m os\u001b[38;5;241m.\u001b[39mlistdir(input_dir):\n",
            "\u001b[0;31mNameError\u001b[0m: name 'locations' is not defined"
          ],
          "output_type": "error"
        }
      ]
    }
  ]
}